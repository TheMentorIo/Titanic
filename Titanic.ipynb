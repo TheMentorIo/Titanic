{
 "cells": [
  {
   "cell_type": "code",
   "id": "initial_id",
   "metadata": {
    "collapsed": true,
    "ExecuteTime": {
     "end_time": "2024-07-05T04:39:59.556364Z",
     "start_time": "2024-07-05T04:39:59.552137Z"
    }
   },
   "source": [
    "import pandas as pd\n",
    "import numpy as np\n",
    "import matplotlib.pyplot as plt\n",
    "import seaborn as sns\n",
    "from sklearn.model_selection import train_test_split\n",
    "from sklearn.preprocessing import StandardScaler\n",
    "import sklearn.metrics as metrics\n",
    "import sklearn.model_selection as sms\n",
    "import sklearn.linear_model as slm"
   ],
   "outputs": [],
   "execution_count": 31
  },
  {
   "metadata": {
    "ExecuteTime": {
     "end_time": "2024-07-05T04:39:59.589006Z",
     "start_time": "2024-07-05T04:39:59.575802Z"
    }
   },
   "cell_type": "code",
   "source": [
    "train = pd.read_csv('train.csv')\n",
    "test = pd.read_csv('test.csv')\n",
    "true_value = pd.read_csv(\"gender_submission.csv\")"
   ],
   "id": "ef9109a1d9bed96f",
   "outputs": [],
   "execution_count": 32
  },
  {
   "metadata": {
    "ExecuteTime": {
     "end_time": "2024-07-05T04:39:59.643610Z",
     "start_time": "2024-07-05T04:39:59.639090Z"
    }
   },
   "cell_type": "code",
   "source": [
    "train.columns\n",
    "#[\"Cabin\",\"Age\",\"Survived\",\"Name\",\"Ticket\",\"PassengerId\"]\n",
    "columns = [\"Pclass:2\", \"Pclass:3\", \"Fare_scaled\", \"Embarked:C\", \"Embarked:Q\", \"Sex:male\", \"SibSp\", \"Parch\"]"
   ],
   "id": "b9b001f2b4ee956f",
   "outputs": [],
   "execution_count": 33
  },
  {
   "metadata": {
    "ExecuteTime": {
     "end_time": "2024-07-05T04:39:59.667771Z",
     "start_time": "2024-07-05T04:39:59.661155Z"
    }
   },
   "cell_type": "code",
   "source": "train.drop(train[train[\"Embarked\"].isna()].index,inplace=True)",
   "id": "62c64d0b9e6e6bf3",
   "outputs": [],
   "execution_count": 34
  },
  {
   "metadata": {
    "ExecuteTime": {
     "end_time": "2024-07-05T04:39:59.696559Z",
     "start_time": "2024-07-05T04:39:59.670785Z"
    }
   },
   "cell_type": "code",
   "source": [
    "x_train = train.drop([\"Cabin\",\"Age\",\"Survived\",\"Name\",\"Ticket\",\"PassengerId\",\"Fare\",\"Pclass\",\"Embarked\"], axis=1)\n",
    "\n",
    "\n",
    "x_train[\"Embarked:C\"] = train[train[\"Embarked\"] == \"C\"][\"Embarked\"]\n",
    "x_train[\"Embarked:C\"].replace(\"C\",1,inplace=True)\n",
    "x_train[\"Embarked:C\"].fillna(0,inplace=True)\n",
    "\n",
    "\n",
    "x_train[\"Embarked:Q\"] = train[train[\"Embarked\"] == \"Q\"][\"Embarked\"]\n",
    "x_train[\"Embarked:Q\"].replace(\"Q\",1,inplace=True)\n",
    "x_train[\"Embarked:Q\"].fillna(0,inplace=True)\n",
    "\n",
    "\n",
    "x_train[\"Sex\"].replace(\"male\",1,inplace=True)\n",
    "x_train[\"Sex\"].replace(\"female\",0,inplace=True)\n",
    "x_train[\"Sex:male\"]=x_train[\"Sex\"]\n",
    "x_train.drop(columns=[\"Sex\"],axis=1,inplace=True)\n",
    "\n",
    "\n",
    "x_train[\"Pclass:2\"]=train[\"Pclass\"]\n",
    "x_train[\"Pclass:2\"].replace(3,0,inplace=True)\n",
    "x_train[\"Pclass:2\"].replace(2,1,inplace=True)\n",
    "x_train[\"Pclass:2\"].replace(1,0,inplace=True)\n",
    "\n",
    "\n",
    "x_train[\"Pclass:3\"]=train[\"Pclass\"]\n",
    "x_train[\"Pclass:3\"].replace(3,1,inplace=True)\n",
    "x_train[\"Pclass:3\"].replace(2,0,inplace=True)\n",
    "x_train[\"Pclass:3\"].replace(1,0,inplace=True)\n",
    "\n",
    "\n",
    "scaler = StandardScaler()\n",
    "x_train[\"Fare_scaled\"]= scaler.fit_transform(train[\"Fare\"].values.reshape(-1,1))\n",
    "\n",
    "x_train=x_train[columns]\n",
    "x_train.head()"
   ],
   "id": "877f72bbcd430cc7",
   "outputs": [
    {
     "data": {
      "text/plain": [
       "   Pclass:2  Pclass:3  Fare_scaled  Embarked:C  Embarked:Q  Sex:male  SibSp  \\\n",
       "0         0         0    -0.500240         0.0         0.0         1      1   \n",
       "1         0         0     0.788947         1.0         0.0         0      1   \n",
       "2         0         0    -0.486650         0.0         0.0         0      0   \n",
       "3         0         0     0.422861         0.0         0.0         0      1   \n",
       "4         0         0    -0.484133         0.0         0.0         1      0   \n",
       "\n",
       "   Parch  \n",
       "0      0  \n",
       "1      0  \n",
       "2      0  \n",
       "3      0  \n",
       "4      0  "
      ],
      "text/html": [
       "<div>\n",
       "<style scoped>\n",
       "    .dataframe tbody tr th:only-of-type {\n",
       "        vertical-align: middle;\n",
       "    }\n",
       "\n",
       "    .dataframe tbody tr th {\n",
       "        vertical-align: top;\n",
       "    }\n",
       "\n",
       "    .dataframe thead th {\n",
       "        text-align: right;\n",
       "    }\n",
       "</style>\n",
       "<table border=\"1\" class=\"dataframe\">\n",
       "  <thead>\n",
       "    <tr style=\"text-align: right;\">\n",
       "      <th></th>\n",
       "      <th>Pclass:2</th>\n",
       "      <th>Pclass:3</th>\n",
       "      <th>Fare_scaled</th>\n",
       "      <th>Embarked:C</th>\n",
       "      <th>Embarked:Q</th>\n",
       "      <th>Sex:male</th>\n",
       "      <th>SibSp</th>\n",
       "      <th>Parch</th>\n",
       "    </tr>\n",
       "  </thead>\n",
       "  <tbody>\n",
       "    <tr>\n",
       "      <th>0</th>\n",
       "      <td>0</td>\n",
       "      <td>0</td>\n",
       "      <td>-0.500240</td>\n",
       "      <td>0.0</td>\n",
       "      <td>0.0</td>\n",
       "      <td>1</td>\n",
       "      <td>1</td>\n",
       "      <td>0</td>\n",
       "    </tr>\n",
       "    <tr>\n",
       "      <th>1</th>\n",
       "      <td>0</td>\n",
       "      <td>0</td>\n",
       "      <td>0.788947</td>\n",
       "      <td>1.0</td>\n",
       "      <td>0.0</td>\n",
       "      <td>0</td>\n",
       "      <td>1</td>\n",
       "      <td>0</td>\n",
       "    </tr>\n",
       "    <tr>\n",
       "      <th>2</th>\n",
       "      <td>0</td>\n",
       "      <td>0</td>\n",
       "      <td>-0.486650</td>\n",
       "      <td>0.0</td>\n",
       "      <td>0.0</td>\n",
       "      <td>0</td>\n",
       "      <td>0</td>\n",
       "      <td>0</td>\n",
       "    </tr>\n",
       "    <tr>\n",
       "      <th>3</th>\n",
       "      <td>0</td>\n",
       "      <td>0</td>\n",
       "      <td>0.422861</td>\n",
       "      <td>0.0</td>\n",
       "      <td>0.0</td>\n",
       "      <td>0</td>\n",
       "      <td>1</td>\n",
       "      <td>0</td>\n",
       "    </tr>\n",
       "    <tr>\n",
       "      <th>4</th>\n",
       "      <td>0</td>\n",
       "      <td>0</td>\n",
       "      <td>-0.484133</td>\n",
       "      <td>0.0</td>\n",
       "      <td>0.0</td>\n",
       "      <td>1</td>\n",
       "      <td>0</td>\n",
       "      <td>0</td>\n",
       "    </tr>\n",
       "  </tbody>\n",
       "</table>\n",
       "</div>"
      ]
     },
     "execution_count": 35,
     "metadata": {},
     "output_type": "execute_result"
    }
   ],
   "execution_count": 35
  },
  {
   "metadata": {
    "ExecuteTime": {
     "end_time": "2024-07-05T04:39:59.702374Z",
     "start_time": "2024-07-05T04:39:59.697572Z"
    }
   },
   "cell_type": "code",
   "source": "y_train= train[\"Survived\"]",
   "id": "c73855c21bc46851",
   "outputs": [],
   "execution_count": 36
  },
  {
   "metadata": {
    "ExecuteTime": {
     "end_time": "2024-07-05T04:39:59.736056Z",
     "start_time": "2024-07-05T04:39:59.730649Z"
    }
   },
   "cell_type": "code",
   "source": "test[\"Fare\"].fillna(test[\"Fare\"].mean(),inplace=True)",
   "id": "178c48516184aa78",
   "outputs": [],
   "execution_count": 37
  },
  {
   "metadata": {
    "ExecuteTime": {
     "end_time": "2024-07-05T04:39:59.825092Z",
     "start_time": "2024-07-05T04:39:59.798548Z"
    }
   },
   "cell_type": "code",
   "source": [
    "x_test = test.drop([\"Cabin\",\"Age\",\"Name\",\"Ticket\",\"PassengerId\",\"Fare\",\"Pclass\",\"Embarked\"], axis=1)\n",
    "\n",
    "\n",
    "x_test[\"Embarked:C\"] = test[test[\"Embarked\"] == \"C\"][\"Embarked\"]\n",
    "x_test[\"Embarked:C\"].replace(\"C\",1,inplace=True)\n",
    "x_test[\"Embarked:C\"].fillna(0,inplace=True)\n",
    "\n",
    "\n",
    "x_test[\"Embarked:Q\"] = test[test[\"Embarked\"] == \"Q\"][\"Embarked\"]\n",
    "x_test[\"Embarked:Q\"].replace(\"Q\",1,inplace=True)\n",
    "x_test[\"Embarked:Q\"].fillna(0,inplace=True)\n",
    "\n",
    "\n",
    "x_test[\"Sex\"].replace(\"male\",1,inplace=True)\n",
    "x_test[\"Sex\"].replace(\"female\",0,inplace=True)\n",
    "x_test[\"Sex:male\"]=x_test[\"Sex\"]\n",
    "x_test.drop(columns=[\"Sex\"],axis=1,inplace=True)\n",
    "\n",
    "x_test[\"Pclass:2\"]=test[\"Pclass\"]\n",
    "x_test[\"Pclass:2\"].replace(3,0,inplace=True)\n",
    "x_test[\"Pclass:2\"].replace(2,1,inplace=True)\n",
    "x_test[\"Pclass:2\"].replace(1,0,inplace=True)\n",
    "\n",
    "\n",
    "x_test[\"Pclass:3\"]=test[\"Pclass\"]\n",
    "x_test[\"Pclass:3\"].replace(3,1,inplace=True)\n",
    "x_test[\"Pclass:3\"].replace(2,0,inplace=True)\n",
    "x_test[\"Pclass:3\"].replace(1,0,inplace=True)\n",
    "\n",
    "scaler = StandardScaler()\n",
    "x_test[\"Fare_scaled\"]= scaler.fit_transform(test[\"Fare\"].values.reshape(-1,1))\n",
    "x_test=x_test[columns]\n",
    "\n",
    "x_test.head()\n"
   ],
   "id": "b7ab30b72eb1c5b2",
   "outputs": [
    {
     "data": {
      "text/plain": [
       "   Pclass:2  Pclass:3  Fare_scaled  Embarked:C  Embarked:Q  Sex:male  SibSp  \\\n",
       "0         0         0    -0.498407         0.0         1.0         1      0   \n",
       "1         0         0    -0.513274         0.0         0.0         0      1   \n",
       "2         0         0    -0.465088         0.0         1.0         1      0   \n",
       "3         0         0    -0.483466         0.0         0.0         1      0   \n",
       "4         0         0    -0.418471         0.0         0.0         0      1   \n",
       "\n",
       "   Parch  \n",
       "0      0  \n",
       "1      0  \n",
       "2      0  \n",
       "3      0  \n",
       "4      1  "
      ],
      "text/html": [
       "<div>\n",
       "<style scoped>\n",
       "    .dataframe tbody tr th:only-of-type {\n",
       "        vertical-align: middle;\n",
       "    }\n",
       "\n",
       "    .dataframe tbody tr th {\n",
       "        vertical-align: top;\n",
       "    }\n",
       "\n",
       "    .dataframe thead th {\n",
       "        text-align: right;\n",
       "    }\n",
       "</style>\n",
       "<table border=\"1\" class=\"dataframe\">\n",
       "  <thead>\n",
       "    <tr style=\"text-align: right;\">\n",
       "      <th></th>\n",
       "      <th>Pclass:2</th>\n",
       "      <th>Pclass:3</th>\n",
       "      <th>Fare_scaled</th>\n",
       "      <th>Embarked:C</th>\n",
       "      <th>Embarked:Q</th>\n",
       "      <th>Sex:male</th>\n",
       "      <th>SibSp</th>\n",
       "      <th>Parch</th>\n",
       "    </tr>\n",
       "  </thead>\n",
       "  <tbody>\n",
       "    <tr>\n",
       "      <th>0</th>\n",
       "      <td>0</td>\n",
       "      <td>0</td>\n",
       "      <td>-0.498407</td>\n",
       "      <td>0.0</td>\n",
       "      <td>1.0</td>\n",
       "      <td>1</td>\n",
       "      <td>0</td>\n",
       "      <td>0</td>\n",
       "    </tr>\n",
       "    <tr>\n",
       "      <th>1</th>\n",
       "      <td>0</td>\n",
       "      <td>0</td>\n",
       "      <td>-0.513274</td>\n",
       "      <td>0.0</td>\n",
       "      <td>0.0</td>\n",
       "      <td>0</td>\n",
       "      <td>1</td>\n",
       "      <td>0</td>\n",
       "    </tr>\n",
       "    <tr>\n",
       "      <th>2</th>\n",
       "      <td>0</td>\n",
       "      <td>0</td>\n",
       "      <td>-0.465088</td>\n",
       "      <td>0.0</td>\n",
       "      <td>1.0</td>\n",
       "      <td>1</td>\n",
       "      <td>0</td>\n",
       "      <td>0</td>\n",
       "    </tr>\n",
       "    <tr>\n",
       "      <th>3</th>\n",
       "      <td>0</td>\n",
       "      <td>0</td>\n",
       "      <td>-0.483466</td>\n",
       "      <td>0.0</td>\n",
       "      <td>0.0</td>\n",
       "      <td>1</td>\n",
       "      <td>0</td>\n",
       "      <td>0</td>\n",
       "    </tr>\n",
       "    <tr>\n",
       "      <th>4</th>\n",
       "      <td>0</td>\n",
       "      <td>0</td>\n",
       "      <td>-0.418471</td>\n",
       "      <td>0.0</td>\n",
       "      <td>0.0</td>\n",
       "      <td>0</td>\n",
       "      <td>1</td>\n",
       "      <td>1</td>\n",
       "    </tr>\n",
       "  </tbody>\n",
       "</table>\n",
       "</div>"
      ]
     },
     "execution_count": 38,
     "metadata": {},
     "output_type": "execute_result"
    }
   ],
   "execution_count": 38
  },
  {
   "metadata": {
    "ExecuteTime": {
     "end_time": "2024-07-05T04:39:59.860268Z",
     "start_time": "2024-07-05T04:39:59.855495Z"
    }
   },
   "cell_type": "code",
   "source": "y_test = true_value[\"Survived\"]",
   "id": "17d3591e83b2216b",
   "outputs": [],
   "execution_count": 39
  },
  {
   "metadata": {},
   "cell_type": "markdown",
   "source": "<h1>Classfication</h1>",
   "id": "3e2265c06cef29c8"
  },
  {
   "metadata": {
    "ExecuteTime": {
     "end_time": "2024-07-05T04:39:59.931681Z",
     "start_time": "2024-07-05T04:39:59.902297Z"
    }
   },
   "cell_type": "code",
   "source": [
    "LR = slm.LogisticRegression()\n",
    "result = LR.fit(x_train,y_train)\n",
    "pred = LR.predict(x_test)\n",
    "mse = np.mean((pred-y_test)**2)\n",
    "accuracy = metrics.accuracy_score(y_test, pred)\n",
    "print(\"Accuracy:\", accuracy)\n",
    "\n",
    "# Calculate confusion matrix\n",
    "cm = metrics.confusion_matrix(y_test, pred)\n",
    "print(\"Confusion Matrix:\")\n",
    "print(cm)\n",
    "precision = metrics.precision_score(y_test, pred)\n",
    "recall = metrics.recall_score(y_test, pred)\n",
    "f1 = metrics.f1_score(y_test, pred)\n",
    "print(\"Precision:\", precision)\n",
    "print(\"Recall:\", recall)\n",
    "print(\"F1-score:\", f1)\n",
    "print(x_test.columns)\n",
    "#############################################################\n",
    "print(\"=======================================================\")\n",
    "#############################################################\n",
    "pred = LR.predict(x_train)\n",
    "accuracy = metrics.accuracy_score(y_train, pred)\n",
    "print(\"Accuracy:\", accuracy)\n",
    "\n",
    "# Calculate confusion matrix\n",
    "cm = metrics.confusion_matrix(y_train, pred)\n",
    "print(\"Confusion Matrix:\")\n",
    "print(cm)\n",
    "precision = metrics.precision_score(y_train, pred)\n",
    "recall = metrics.recall_score(y_train, pred)\n",
    "f1 = metrics.f1_score(y_train, pred)\n",
    "print(\"Precision:\", precision)\n",
    "print(\"Recall:\", recall)\n",
    "print(\"F1-score:\", f1)\n",
    "print(x_test.columns)"
   ],
   "id": "6f414a966d271e6f",
   "outputs": [
    {
     "name": "stdout",
     "output_type": "stream",
     "text": [
      "Accuracy: 0.9712918660287081\n",
      "Confusion Matrix:\n",
      "[[258   8]\n",
      " [  4 148]]\n",
      "Precision: 0.9487179487179487\n",
      "Recall: 0.9736842105263158\n",
      "F1-score: 0.9610389610389611\n",
      "Index(['Pclass:2', 'Pclass:3', 'Fare_scaled', 'Embarked:C', 'Embarked:Q',\n",
      "       'Sex:male', 'SibSp', 'Parch'],\n",
      "      dtype='object')\n",
      "=======================================================\n",
      "Accuracy: 0.7896512935883014\n",
      "Confusion Matrix:\n",
      "[[472  77]\n",
      " [110 230]]\n",
      "Precision: 0.749185667752443\n",
      "Recall: 0.6764705882352942\n",
      "F1-score: 0.7109737248840803\n",
      "Index(['Pclass:2', 'Pclass:3', 'Fare_scaled', 'Embarked:C', 'Embarked:Q',\n",
      "       'Sex:male', 'SibSp', 'Parch'],\n",
      "      dtype='object')\n"
     ]
    }
   ],
   "execution_count": 40
  },
  {
   "metadata": {
    "ExecuteTime": {
     "end_time": "2024-07-05T04:40:00.063307Z",
     "start_time": "2024-07-05T04:40:00.032713Z"
    }
   },
   "cell_type": "code",
   "source": [
    "LR = slm.LogisticRegression()\n",
    "result = LR.fit(x_train.drop(columns=[\"Embarked:C\", \"Embarked:Q\"]),y_train)\n",
    "pred = LR.predict(x_test.drop(columns=[\"Embarked:C\", \"Embarked:Q\"]))\n",
    "mse = np.mean((pred-y_test)**2)\n",
    "accuracy = metrics.accuracy_score(y_test, pred)\n",
    "print(\"Accuracy:\", accuracy)\n",
    "\n",
    "# Calculate confusion matrix\n",
    "cm = metrics.confusion_matrix(y_test, pred)\n",
    "print(\"Confusion Matrix:\")\n",
    "print(cm)\n",
    "precision = metrics.precision_score(y_test, pred)\n",
    "recall = metrics.recall_score(y_test, pred)\n",
    "f1 = metrics.f1_score(y_test, pred)\n",
    "print(\"Precision:\", precision)\n",
    "print(\"Recall:\", recall)\n",
    "print(\"F1-score:\", f1)\n",
    "print(x_test.columns)\n",
    "#############################################################\n",
    "print(\"=======================================================\")\n",
    "#############################################################\n",
    "pred = LR.predict(x_train.drop(columns=[\"Embarked:C\", \"Embarked:Q\"]))\n",
    "accuracy = metrics.accuracy_score(y_train, pred)\n",
    "print(\"Accuracy:\", accuracy)\n",
    "\n",
    "# Calculate confusion matrix\n",
    "cm = metrics.confusion_matrix(y_train, pred)\n",
    "print(\"Confusion Matrix:\")\n",
    "print(cm)\n",
    "precision = metrics.precision_score(y_train, pred)\n",
    "recall = metrics.recall_score(y_train, pred)\n",
    "f1 = metrics.f1_score(y_train, pred)\n",
    "print(\"Precision:\", precision)\n",
    "print(\"Recall:\", recall)\n",
    "print(\"F1-score:\", f1)\n",
    "print(x_test.columns)"
   ],
   "id": "9ae6aec330dd95ce",
   "outputs": [
    {
     "name": "stdout",
     "output_type": "stream",
     "text": [
      "Accuracy: 0.9760765550239234\n",
      "Confusion Matrix:\n",
      "[[260   6]\n",
      " [  4 148]]\n",
      "Precision: 0.961038961038961\n",
      "Recall: 0.9736842105263158\n",
      "F1-score: 0.9673202614379085\n",
      "Index(['Pclass:2', 'Pclass:3', 'Fare_scaled', 'Embarked:C', 'Embarked:Q',\n",
      "       'Sex:male', 'SibSp', 'Parch'],\n",
      "      dtype='object')\n",
      "=======================================================\n",
      "Accuracy: 0.7896512935883014\n",
      "Confusion Matrix:\n",
      "[[472  77]\n",
      " [110 230]]\n",
      "Precision: 0.749185667752443\n",
      "Recall: 0.6764705882352942\n",
      "F1-score: 0.7109737248840803\n",
      "Index(['Pclass:2', 'Pclass:3', 'Fare_scaled', 'Embarked:C', 'Embarked:Q',\n",
      "       'Sex:male', 'SibSp', 'Parch'],\n",
      "      dtype='object')\n"
     ]
    }
   ],
   "execution_count": 41
  },
  {
   "metadata": {
    "ExecuteTime": {
     "end_time": "2024-07-05T04:40:00.133603Z",
     "start_time": "2024-07-05T04:40:00.100876Z"
    }
   },
   "cell_type": "code",
   "source": [
    "LR = slm.LogisticRegression()\n",
    "result = LR.fit(x_train.drop(columns=[\"Embarked:C\", \"Embarked:Q\", \"SibSp\", \"Parch\"]),y_train)\n",
    "pred = LR.predict(x_test.drop(columns=[\"Embarked:C\", \"Embarked:Q\", \"SibSp\", \"Parch\"]))\n",
    "mse = np.mean((pred-y_test)**2)\n",
    "accuracy = metrics.accuracy_score(y_test, pred)\n",
    "print(\"Accuracy:\", accuracy)\n",
    "\n",
    "# Calculate confusion matrix\n",
    "cm = metrics.confusion_matrix(y_test, pred)\n",
    "print(\"Confusion Matrix:\")\n",
    "print(cm)\n",
    "precision = metrics.precision_score(y_test, pred)\n",
    "recall = metrics.recall_score(y_test, pred)\n",
    "f1 = metrics.f1_score(y_test, pred)\n",
    "print(\"Precision:\", precision)\n",
    "print(\"Recall:\", recall)\n",
    "print(\"F1-score:\", f1)\n",
    "print(x_test.columns)\n",
    "#############################################################\n",
    "print(\"=======================================================\")\n",
    "#############################################################\n",
    "pred = LR.predict(x_train.drop(columns=[\"Embarked:C\", \"Embarked:Q\", \"SibSp\", \"Parch\"]))\n",
    "accuracy = metrics.accuracy_score(y_train, pred)\n",
    "print(\"Accuracy:\", accuracy)\n",
    "\n",
    "# Calculate confusion matrix\n",
    "cm = metrics.confusion_matrix(y_train, pred)\n",
    "print(\"Confusion Matrix:\")\n",
    "print(cm)\n",
    "precision = metrics.precision_score(y_train, pred)\n",
    "recall = metrics.recall_score(y_train, pred)\n",
    "f1 = metrics.f1_score(y_train, pred)\n",
    "print(\"Precision:\", precision)\n",
    "print(\"Recall:\", recall)\n",
    "print(\"F1-score:\", f1)\n",
    "print(x_test.columns)"
   ],
   "id": "79703f931107001d",
   "outputs": [
    {
     "name": "stdout",
     "output_type": "stream",
     "text": [
      "Accuracy: 0.9856459330143541\n",
      "Confusion Matrix:\n",
      "[[260   6]\n",
      " [  0 152]]\n",
      "Precision: 0.9620253164556962\n",
      "Recall: 1.0\n",
      "F1-score: 0.9806451612903226\n",
      "Index(['Pclass:2', 'Pclass:3', 'Fare_scaled', 'Embarked:C', 'Embarked:Q',\n",
      "       'Sex:male', 'SibSp', 'Parch'],\n",
      "      dtype='object')\n",
      "=======================================================\n",
      "Accuracy: 0.78177727784027\n",
      "Confusion Matrix:\n",
      "[[462  87]\n",
      " [107 233]]\n",
      "Precision: 0.728125\n",
      "Recall: 0.6852941176470588\n",
      "F1-score: 0.706060606060606\n",
      "Index(['Pclass:2', 'Pclass:3', 'Fare_scaled', 'Embarked:C', 'Embarked:Q',\n",
      "       'Sex:male', 'SibSp', 'Parch'],\n",
      "      dtype='object')\n"
     ]
    }
   ],
   "execution_count": 42
  },
  {
   "metadata": {
    "ExecuteTime": {
     "end_time": "2024-07-05T04:41:25.665553Z",
     "start_time": "2024-07-05T04:41:25.637158Z"
    }
   },
   "cell_type": "code",
   "source": [
    "LR = slm.LogisticRegression()\n",
    "LR.fit(x_train.drop(columns=[\"Embarked:C\", \"Embarked:Q\", \"Fare_scaled\", \"SibSp\", \"Parch\"]), y_train)\n",
    "\n",
    "#################################################################\n",
    "pred = LR.predict(x_test.drop(columns=[\"Embarked:C\", \"Embarked:Q\", \"Fare_scaled\", \"SibSp\", \"Parch\"]))\n",
    "\n",
    "# Calculate accuracy\n",
    "accuracy = metrics.accuracy_score(y_test, pred)\n",
    "print(\"Accuracy:\", accuracy)\n",
    "\n",
    "# Calculate confusion matrix\n",
    "cm = metrics.confusion_matrix(y_test, pred)\n",
    "print(\"Confusion Matrix:\")\n",
    "print(cm)\n",
    "precision = metrics.precision_score(y_test, pred)\n",
    "recall = metrics.recall_score(y_test, pred)\n",
    "f1 = metrics.f1_score(y_test, pred)\n",
    "print(\"Precision:\", precision)\n",
    "print(\"Recall:\", recall)\n",
    "print(\"F1-score:\", f1)\n",
    "print(x_test.columns)\n",
    "#############################################################\n",
    "print(\"=======================================================\")\n",
    "#############################################################\n",
    "pred = LR.predict(x_train.drop(columns=[\"Embarked:C\", \"Embarked:Q\", \"Fare_scaled\", \"SibSp\", \"Parch\"]))\n",
    "accuracy = metrics.accuracy_score(y_train, pred)\n",
    "print(\"Accuracy:\", accuracy)\n",
    "\n",
    "# Calculate confusion matrix\n",
    "cm = metrics.confusion_matrix(y_train, pred)\n",
    "print(\"Confusion Matrix:\")\n",
    "print(cm)\n",
    "precision = metrics.precision_score(y_train, pred)\n",
    "recall = metrics.recall_score(y_train, pred)\n",
    "f1 = metrics.f1_score(y_train, pred)\n",
    "print(\"Precision:\", precision)\n",
    "print(\"Recall:\", recall)\n",
    "print(\"F1-score:\", f1)\n",
    "print(x_test.columns)"
   ],
   "id": "4a38d24d9e2103b8",
   "outputs": [
    {
     "name": "stdout",
     "output_type": "stream",
     "text": [
      "Accuracy: 1.0\n",
      "Confusion Matrix:\n",
      "[[266   0]\n",
      " [  0 152]]\n",
      "Precision: 1.0\n",
      "Recall: 1.0\n",
      "F1-score: 1.0\n",
      "Index(['Pclass:2', 'Pclass:3', 'Fare_scaled', 'Embarked:C', 'Embarked:Q',\n",
      "       'Sex:male', 'SibSp', 'Parch'],\n",
      "      dtype='object')\n",
      "=======================================================\n",
      "Accuracy: 0.7862767154105736\n",
      "Confusion Matrix:\n",
      "[[468  81]\n",
      " [109 231]]\n",
      "Precision: 0.7403846153846154\n",
      "Recall: 0.6794117647058824\n",
      "F1-score: 0.7085889570552146\n",
      "Index(['Pclass:2', 'Pclass:3', 'Fare_scaled', 'Embarked:C', 'Embarked:Q',\n",
      "       'Sex:male', 'SibSp', 'Parch'],\n",
      "      dtype='object')\n"
     ]
    }
   ],
   "execution_count": 49
  },
  {
   "metadata": {
    "ExecuteTime": {
     "end_time": "2024-07-05T04:40:00.581689Z",
     "start_time": "2024-07-05T04:40:00.290253Z"
    }
   },
   "cell_type": "code",
   "source": "sns.histplot(data=train[train[\"Sex\"] == \"male\"],x=\"Pclass\",hue=\"Survived\",multiple=\"dodge\")",
   "id": "fc24431ad8c7dc77",
   "outputs": [
    {
     "data": {
      "text/plain": [
       "<Axes: xlabel='Pclass', ylabel='Count'>"
      ]
     },
     "execution_count": 44,
     "metadata": {},
     "output_type": "execute_result"
    },
    {
     "data": {
      "text/plain": [
       "<Figure size 640x480 with 1 Axes>"
      ],
      "image/png": "[encoded data removed]"
     },
     "metadata": {},
     "output_type": "display_data"
    }
   ],
   "execution_count": 44
  },
  {
   "metadata": {
    "ExecuteTime": {
     "end_time": "2024-07-05T04:40:00.857021Z",
     "start_time": "2024-07-05T04:40:00.583701Z"
    }
   },
   "cell_type": "code",
   "source": "sns.histplot(data=train[train[\"Sex\"] == \"female\"],x=\"Pclass\",hue=\"Survived\",multiple=\"dodge\")",
   "id": "f2334612bdb2f664",
   "outputs": [
    {
     "data": {
      "text/plain": [
       "<Axes: xlabel='Pclass', ylabel='Count'>"
      ]
     },
     "execution_count": 45,
     "metadata": {},
     "output_type": "execute_result"
    },
    {
     "data": {
      "text/plain": [
       "<Figure size 640x480 with 1 Axes>"
      ],
      "image/png": "[encoded data removed]"
     },
     "metadata": {},
     "output_type": "display_data"
    }
   ],
   "execution_count": 45
  },
  {
   "metadata": {
    "ExecuteTime": {
     "end_time": "2024-07-05T04:40:00.862059Z",
     "start_time": "2024-07-05T04:40:00.858980Z"
    }
   },
   "cell_type": "code",
   "source": "",
   "id": "21c1d3ce02c9e9d6",
   "outputs": [],
   "execution_count": 45
  }
 ],
 "metadata": {
  "kernelspec": {
   "display_name": "Python 3",
   "language": "python",
   "name": "python3"
  },
  "language_info": {
   "codemirror_mode": {
    "name": "ipython",
    "version": 2
   },
   "file_extension": ".py",
   "mimetype": "text/x-python",
   "name": "python",
   "nbconvert_exporter": "python",
   "pygments_lexer": "ipython2",
   "version": "2.7.6"
  }
 },
 "nbformat": 4,
 "nbformat_minor": 5
}
